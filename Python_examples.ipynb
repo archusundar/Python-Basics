{
  "nbformat": 4,
  "nbformat_minor": 0,
  "metadata": {
    "colab": {
      "provenance": []
    },
    "kernelspec": {
      "name": "python3",
      "display_name": "Python 3"
    },
    "language_info": {
      "name": "python"
    }
  },
  "cells": [
    {
      "cell_type": "markdown",
      "source": [
        "**Variable**"
      ],
      "metadata": {
        "id": "bV_CXBoxvV1P"
      }
    },
    {
      "cell_type": "code",
      "source": [
        "x=10;\n",
        "print(x)"
      ],
      "metadata": {
        "colab": {
          "base_uri": "https://localhost:8080/"
        },
        "id": "SkBl0rixvVk5",
        "outputId": "f5001c34-4ee9-4d3d-fd33-cfadad926cad"
      },
      "execution_count": 13,
      "outputs": [
        {
          "output_type": "stream",
          "name": "stdout",
          "text": [
            "10\n"
          ]
        }
      ]
    },
    {
      "cell_type": "markdown",
      "source": [
        "**String**"
      ],
      "metadata": {
        "id": "ooQ2vqxEu5oT"
      }
    },
    {
      "cell_type": "code",
      "source": [
        "my_string = \"Hello Python\"\n",
        "print(my_string)"
      ],
      "metadata": {
        "colab": {
          "base_uri": "https://localhost:8080/"
        },
        "id": "yjxT_6zyu5Zv",
        "outputId": "df3641f1-617f-4174-ffe4-78a54b728f07"
      },
      "execution_count": 12,
      "outputs": [
        {
          "output_type": "stream",
          "name": "stdout",
          "text": [
            "Hello Python\n"
          ]
        }
      ]
    },
    {
      "cell_type": "markdown",
      "source": [
        "**String Concatenation**"
      ],
      "metadata": {
        "id": "hwBrCTplvy4Y"
      }
    },
    {
      "cell_type": "code",
      "source": [
        "x = \"Hello\"\n",
        "y = \"World\"\n",
        "z = x + y\n",
        "print(z)"
      ],
      "metadata": {
        "colab": {
          "base_uri": "https://localhost:8080/"
        },
        "id": "H6eIQcE_vvAd",
        "outputId": "32728554-eca0-4125-d3f3-58b4931afa41"
      },
      "execution_count": 14,
      "outputs": [
        {
          "output_type": "stream",
          "name": "stdout",
          "text": [
            "HelloWorld\n"
          ]
        }
      ]
    },
    {
      "cell_type": "markdown",
      "source": [
        "**String Integer Concatenation**"
      ],
      "metadata": {
        "id": "iNhe9AxQwGgy"
      }
    },
    {
      "cell_type": "code",
      "source": [
        "x = \"I have \" + str(10) + \" apples\"\n",
        "print(x)"
      ],
      "metadata": {
        "colab": {
          "base_uri": "https://localhost:8080/"
        },
        "id": "OheU_UiUwGK9",
        "outputId": "53870db7-ef2d-4c85-bd05-c8b3fd7aea08"
      },
      "execution_count": 16,
      "outputs": [
        {
          "output_type": "stream",
          "name": "stdout",
          "text": [
            "I have 10 apples\n"
          ]
        }
      ]
    },
    {
      "cell_type": "markdown",
      "source": [
        "# **Lists**"
      ],
      "metadata": {
        "id": "AKtCvPRGwiu2"
      }
    },
    {
      "cell_type": "code",
      "source": [
        "##Lists are ordered pair of items\n",
        "numbers = [1, 2, 3, 4, 5]\n",
        "string = [\"apple\", \"banana\", \"cherry\"]\n",
        "print(numbers)\n",
        "print(string)\n",
        "## Print using index\n",
        "print(numbers[4])\n",
        "print(string[1])"
      ],
      "metadata": {
        "colab": {
          "base_uri": "https://localhost:8080/"
        },
        "id": "ozBuMKcqwiiG",
        "outputId": "22b503ab-bc53-4236-e54c-037f06e24ff6"
      },
      "execution_count": 31,
      "outputs": [
        {
          "output_type": "stream",
          "name": "stdout",
          "text": [
            "[1, 2, 3, 4, 5]\n",
            "['apple', 'banana', 'cherry']\n",
            "5\n",
            "banana\n"
          ]
        }
      ]
    },
    {
      "cell_type": "markdown",
      "source": [
        "Dictionaries"
      ],
      "metadata": {
        "id": "xYdAl2G0xFW7"
      }
    },
    {
      "cell_type": "code",
      "source": [
        "##example 1 (unordered pair)\n",
        "dict = {\"name\": \"John\", \"age\": 30}\n",
        "print(dict)\n",
        "##example 2 (unordered pair)\n",
        "dict1 = {\"a\": 1, \"b\": 2, \"c\": 3}\n",
        "print(dict1)"
      ],
      "metadata": {
        "colab": {
          "base_uri": "https://localhost:8080/"
        },
        "id": "0jpTuV3FxE9J",
        "outputId": "709d996b-d0ed-419e-a005-3d385895b699"
      },
      "execution_count": 19,
      "outputs": [
        {
          "output_type": "stream",
          "name": "stdout",
          "text": [
            "{'name': 'John', 'age': 30}\n",
            "{'a': 1, 'b': 2, 'c': 3}\n"
          ]
        }
      ]
    },
    {
      "cell_type": "code",
      "source": [],
      "metadata": {
        "id": "THxbmCHCxEf0"
      },
      "execution_count": null,
      "outputs": []
    },
    {
      "cell_type": "markdown",
      "source": [
        "**if-else statement to find if a number is positive or negative**"
      ],
      "metadata": {
        "id": "CpyhAhKVqnzr"
      }
    },
    {
      "cell_type": "code",
      "source": [
        "x = int(input(\"Enter a number:\"))\n",
        "if x > 0:\n",
        "    print(\"x is positive\")\n",
        "else:\n",
        "    print(\"x is not positive\")"
      ],
      "metadata": {
        "colab": {
          "base_uri": "https://localhost:8080/"
        },
        "id": "oIE8NiqFqnnW",
        "outputId": "3926a60a-cb70-48a3-96ed-31c470f318a7"
      },
      "execution_count": 6,
      "outputs": [
        {
          "output_type": "stream",
          "name": "stdout",
          "text": [
            "Enter a number:4\n",
            "x is positive\n"
          ]
        }
      ]
    },
    {
      "cell_type": "markdown",
      "source": [
        "**if-elif-else statement** (Code to find the grade of a student)"
      ],
      "metadata": {
        "id": "6DjKcapAuVNC"
      }
    },
    {
      "cell_type": "code",
      "source": [
        "grade = int(input(\"Enter your grade:\"))\n",
        "\n",
        "if grade >= 90:\n",
        "    print(\"A\")\n",
        "elif grade >= 80:\n",
        "    print(\"B\")\n",
        "elif grade >= 70:\n",
        "    print(\"C\")\n",
        "elif grade >= 60:\n",
        "    print(\"D\")\n",
        "else:\n",
        "    print(\"F\")"
      ],
      "metadata": {
        "colab": {
          "base_uri": "https://localhost:8080/"
        },
        "id": "gqR0TTnirSwZ",
        "outputId": "860b62bb-b417-47d1-b325-c3d5177ccd02"
      },
      "execution_count": 10,
      "outputs": [
        {
          "output_type": "stream",
          "name": "stdout",
          "text": [
            "Enter your grade:6\n",
            "F\n"
          ]
        }
      ]
    },
    {
      "cell_type": "markdown",
      "source": [
        "**For loop using range**\n"
      ],
      "metadata": {
        "id": "B4ZE7-QxpbdA"
      }
    },
    {
      "cell_type": "code",
      "execution_count": null,
      "metadata": {
        "id": "5sGUUm7ZdtYd"
      },
      "outputs": [],
      "source": [
        "for i in range(10):\n",
        "  print(i)"
      ]
    },
    {
      "cell_type": "markdown",
      "source": [
        "**While loop (Condition: print numbers less than or equal to 5)**"
      ],
      "metadata": {
        "id": "Ji3akJpipt2B"
      }
    },
    {
      "cell_type": "code",
      "source": [
        "i = 1\n",
        "while i <= 5:\n",
        "    print(i)\n",
        "    i += 1"
      ],
      "metadata": {
        "id": "bAPfqpUXptlI"
      },
      "execution_count": null,
      "outputs": []
    },
    {
      "cell_type": "markdown",
      "source": [
        "**Function to add two numbers**"
      ],
      "metadata": {
        "id": "Qsnb0ObjpYIR"
      }
    },
    {
      "cell_type": "code",
      "source": [
        "def add_numbers(a, b):\n",
        "\n",
        "    return a + b\n",
        "\n",
        "\n",
        "result = add_numbers(3, 5)\n",
        "print(\"The sum is:\", result)"
      ],
      "metadata": {
        "colab": {
          "base_uri": "https://localhost:8080/"
        },
        "id": "shKOePsqpULL",
        "outputId": "8114f9e8-54eb-4fab-dbec-b9dcfd4bdb18"
      },
      "execution_count": 2,
      "outputs": [
        {
          "output_type": "stream",
          "name": "stdout",
          "text": [
            "The sum is: 8\n"
          ]
        }
      ]
    },
    {
      "cell_type": "code",
      "source": [],
      "metadata": {
        "id": "fypKKRaGqO_9"
      },
      "execution_count": null,
      "outputs": []
    },
    {
      "cell_type": "markdown",
      "source": [
        "**Creating a Class Employee**"
      ],
      "metadata": {
        "id": "k95AUthhqbAX"
      }
    },
    {
      "cell_type": "code",
      "source": [
        "class Employee:\n",
        "    def __init__(self, name, age):\n",
        "        self.name = name\n",
        "        self.age = age\n",
        "\n",
        "    def myfunc(self):\n",
        "        print(self.age)\n",
        "\n",
        "# Create an instance of Employee\n",
        "emp1 = Employee(\"Jack\", 31)\n",
        "# Create another instance of Employee\n",
        "emp2 =  Employee(\"John\", 25)\n",
        "\n",
        "# Modify the age attribute\n",
        "emp1.age = 100\n",
        "emp1.name =\"David\"\n",
        "#Delete an Employee instance\n",
        "del emp2\n",
        "\n",
        "# Print the age attribute\n",
        "print(emp1.age)\n",
        "\n",
        "#Print the name attribute\n",
        "print(emp1.name)"
      ],
      "metadata": {
        "colab": {
          "base_uri": "https://localhost:8080/"
        },
        "id": "HsULDXwMqauN",
        "outputId": "9d135c49-5f18-41f2-b499-4d4d9e455e73"
      },
      "execution_count": 32,
      "outputs": [
        {
          "output_type": "stream",
          "name": "stdout",
          "text": [
            "100\n",
            "David\n"
          ]
        }
      ]
    },
    {
      "cell_type": "markdown",
      "source": [],
      "metadata": {
        "id": "iDKU04i_qJTC"
      }
    },
    {
      "cell_type": "code",
      "source": [],
      "metadata": {
        "id": "ntL_iSEAqJD7"
      },
      "execution_count": null,
      "outputs": []
    },
    {
      "cell_type": "markdown",
      "source": [],
      "metadata": {
        "id": "EEf5gcjfpVtA"
      }
    }
  ]
}